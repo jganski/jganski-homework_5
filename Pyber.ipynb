{
 "cells": [
  {
   "cell_type": "code",
   "execution_count": 1,
   "metadata": {},
   "outputs": [],
   "source": [
    "import matplotlib.pyplot as plt\n",
    "import pandas as pd"
   ]
  },
  {
   "cell_type": "code",
   "execution_count": 29,
   "metadata": {},
   "outputs": [],
   "source": [
    "#city_data_to_load = \"city_data.csv\"\n",
    "\n",
    "file = \"Users/alicefranco/Documents/city_data.csv\"\n",
    "\n",
    "city_data_df = pd.read_csv(\"Resources/city_data.csv\")\n",
    "\n",
    "ride_data_df = pd.read_csv()\n",
    "\n",
    "city_data_df.head()\n",
    "\n",
    "ride_data_df.head()"
   ]
  },
  {
   "cell_type": "code",
   "execution_count": null,
   "metadata": {},
   "outputs": [],
   "source": [
    "#combine data into one set\n",
    "\n",
    "combined_df = pd.merge(city_data_df, ride_data_df, on=\"city\")\n",
    "\n",
    "combined_df.head()"
   ]
  },
  {
   "cell_type": "code",
   "execution_count": null,
   "metadata": {},
   "outputs": [],
   "source": [
    "# Obtain the x and y coordinates for each of the three city types\n",
    "\n",
    "# Build the scatter plots for each city types\n",
    "\n",
    "scatter()\n",
    "# Incorporate the other graph properties\n",
    "plt.title(\"Pyber Data by City\")\n",
    "plt.xlabel(\"Number of Fares\")\n",
    "plt.ylabel(\"\")\n",
    "\n",
    "# Create a legend\n",
    "\n",
    "plt.legend(loc=\"upper right\")\n",
    "\n",
    "# Incorporate a text label regarding circle size\n",
    "\n",
    "plt.text(\"\")\n",
    "# Save Figure\n",
    "\n",
    "matplotlib.pyplot.savefig()\n"
   ]
  },
  {
   "cell_type": "code",
   "execution_count": null,
   "metadata": {},
   "outputs": [],
   "source": [
    "plt.show()"
   ]
  },
  {
   "cell_type": "code",
   "execution_count": null,
   "metadata": {},
   "outputs": [],
   "source": [
    "# Calculate Type Percents\n",
    "\n",
    "type_percents = \n",
    "\n",
    "# Build Pie Chart\n",
    "\n",
    "plt.pie(type_percents)\n",
    "\n",
    "# Save Figure\n",
    "\n",
    "matplotlib.pyplot.savefig()"
   ]
  },
  {
   "cell_type": "code",
   "execution_count": null,
   "metadata": {},
   "outputs": [],
   "source": [
    "plt.show()"
   ]
  },
  {
   "cell_type": "code",
   "execution_count": null,
   "metadata": {},
   "outputs": [],
   "source": [
    "# Calculate Ride Percents\n",
    "ride_percents = \n",
    "# Build Pie Chart\n",
    "plt.pie(ride_percents)\n",
    "# Save Figure\n",
    "\n",
    "matplotlib.pyplot.savefig()"
   ]
  },
  {
   "cell_type": "code",
   "execution_count": null,
   "metadata": {},
   "outputs": [],
   "source": [
    "plt.show()"
   ]
  },
  {
   "cell_type": "code",
   "execution_count": null,
   "metadata": {},
   "outputs": [],
   "source": [
    "# Calculate Driver Percents\n",
    "driver_percents = \n",
    "# Build Pie Charts\n",
    "plt.pie(driver_percents)\n",
    "\n",
    "# Save Figure\n",
    "\n",
    "matplotlib.pyplot.savefig()"
   ]
  },
  {
   "cell_type": "code",
   "execution_count": null,
   "metadata": {},
   "outputs": [],
   "source": [
    "plt.show()"
   ]
  }
 ],
 "metadata": {
  "kernelspec": {
   "display_name": "Python 3",
   "language": "python",
   "name": "python3"
  },
  "language_info": {
   "codemirror_mode": {
    "name": "ipython",
    "version": 3
   },
   "file_extension": ".py",
   "mimetype": "text/x-python",
   "name": "python",
   "nbconvert_exporter": "python",
   "pygments_lexer": "ipython3",
   "version": "3.7.3"
  }
 },
 "nbformat": 4,
 "nbformat_minor": 2
}
